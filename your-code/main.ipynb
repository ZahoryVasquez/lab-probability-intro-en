{
 "cells": [
  {
   "cell_type": "markdown",
   "metadata": {},
   "source": [
    "# Probability"
   ]
  },
  {
   "cell_type": "markdown",
   "metadata": {},
   "source": [
    "## Challenge 1\n",
    "There is a box with 10 white balls, 12 red balls and 8 black balls. Calculate the probability of:\n",
    "* Taking a white ball out.\n",
    "* Taking a white ball on first extraction and a black ball out on second extraction without replacing the first one.\n",
    "* Taking a white ball on first extraction and a black ball out on second extraction replacing the first one.\n",
    "* Taking 3 balls and them being all different colours."
   ]
  },
  {
   "cell_type": "code",
   "execution_count": 2,
   "metadata": {},
   "outputs": [
    {
     "name": "stdout",
     "output_type": "stream",
     "text": [
      "P(white) = 0.3333333333333333\n",
      "P(white then black, no replace) = 0.09195402298850575\n",
      "P(white then black, replace) = 0.08888888888888888\n",
      "P(3 balls all different colours) = 0.23645320197044334\n"
     ]
    }
   ],
   "source": [
    "white = 10\n",
    "red = 12\n",
    "black = 8\n",
    "total = white + red + black \n",
    "\n",
    "# 1. Taking white ball\n",
    "p_white = white / total\n",
    "\n",
    "# 2) White then Black (no replace)\n",
    "p_white_black_no_replace = (white / total) * (black / (total - 1))\n",
    "\n",
    "# 3) White then Black (replace)\n",
    "p_white_black_replace = (white / total) * (black / total)\n",
    "\n",
    "# 4) Three balls all different colours (no replace)\n",
    "from math import factorial\n",
    "p_diff_colours = factorial(3) * (white / total) * (red / (total - 1)) * (black / (total - 2))\n",
    "\n",
    "# Probabilities\n",
    "print(\"P(white) =\", p_white)\n",
    "print(\"P(white then black, no replace) =\", p_white_black_no_replace)\n",
    "print(\"P(white then black, replace) =\", p_white_black_replace)\n",
    "print(\"P(3 balls all different colours) =\", p_diff_colours)\n"
   ]
  },
  {
   "cell_type": "markdown",
   "metadata": {},
   "source": [
    "## Challenge 2\n",
    "\n",
    "You want to go on picnic on Saturday. You hate rain, and would know to plan your weekend. To help you make a decision, you gather the following data about rainy days:\n",
    "\n",
    "* 40% of all days are cloudy.\n",
    "* About 50% of cloudy days are rainy. \n",
    "* About 20% of non-cloudy days are rainy.\n",
    "\n",
    "What is the chance of rain during next Saturday?"
   ]
  },
  {
   "cell_type": "code",
   "execution_count": 3,
   "metadata": {},
   "outputs": [
    {
     "name": "stdout",
     "output_type": "stream",
     "text": [
      "P(rainy_probability) = 0.45454545454545453\n"
     ]
    }
   ],
   "source": [
    "# YOUR CODE HERE\n",
    "cloudy = 0.4\n",
    "rainy = 0.5\n",
    "non_cloudy =0.2\n",
    "total = cloudy + rainy + non_cloudy\n",
    "\n",
    "rainy_probability = rainy / total\n",
    "print(\"P(rainy_probability) =\", rainy_probability)\n"
   ]
  },
  {
   "cell_type": "markdown",
   "metadata": {},
   "source": [
    "## Challenge 3\n",
    "\n",
    "A and B are events of a probability such that $P(A) = 0.3$, $P(B) = 0.6$ and $P(A \\cap B) = 0.1$\n",
    "\n",
    "Which of the following statements are true?  \n",
    "**HINT: draw a big Venn Diagram by your side**  \n",
    "* $P(\\overline{A}) = 0.7$\n",
    "* $P(A \\cup B) = 0.6$\n",
    "* $P(A \\cap \\overline{B}) = 0.2$\n",
    "* $P(A \\cup \\overline{A}) = 1$  \n",
    "* $P(A \\cap (B \\cup \\overline{B})) = 0.4$\n",
    "* $P(\\overline{A} \\cap \\overline{B}) = 0.3$\n",
    "* $P(\\overline{A \\cap B}) = 0.9$"
   ]
  },
  {
   "cell_type": "code",
   "execution_count": 4,
   "metadata": {},
   "outputs": [
    {
     "name": "stdout",
     "output_type": "stream",
     "text": [
      "Requirement already satisfied: matplotlib_venn in /opt/anaconda3/lib/python3.13/site-packages (1.1.2)\n",
      "Requirement already satisfied: matplotlib in /opt/anaconda3/lib/python3.13/site-packages (from matplotlib_venn) (3.10.0)\n",
      "Requirement already satisfied: numpy in /opt/anaconda3/lib/python3.13/site-packages (from matplotlib_venn) (2.1.3)\n",
      "Requirement already satisfied: scipy in /opt/anaconda3/lib/python3.13/site-packages (from matplotlib_venn) (1.15.3)\n",
      "Requirement already satisfied: contourpy>=1.0.1 in /opt/anaconda3/lib/python3.13/site-packages (from matplotlib->matplotlib_venn) (1.3.1)\n",
      "Requirement already satisfied: cycler>=0.10 in /opt/anaconda3/lib/python3.13/site-packages (from matplotlib->matplotlib_venn) (0.11.0)\n",
      "Requirement already satisfied: fonttools>=4.22.0 in /opt/anaconda3/lib/python3.13/site-packages (from matplotlib->matplotlib_venn) (4.55.3)\n",
      "Requirement already satisfied: kiwisolver>=1.3.1 in /opt/anaconda3/lib/python3.13/site-packages (from matplotlib->matplotlib_venn) (1.4.8)\n",
      "Requirement already satisfied: packaging>=20.0 in /opt/anaconda3/lib/python3.13/site-packages (from matplotlib->matplotlib_venn) (24.2)\n",
      "Requirement already satisfied: pillow>=8 in /opt/anaconda3/lib/python3.13/site-packages (from matplotlib->matplotlib_venn) (11.1.0)\n",
      "Requirement already satisfied: pyparsing>=2.3.1 in /opt/anaconda3/lib/python3.13/site-packages (from matplotlib->matplotlib_venn) (3.2.0)\n",
      "Requirement already satisfied: python-dateutil>=2.7 in /opt/anaconda3/lib/python3.13/site-packages (from matplotlib->matplotlib_venn) (2.9.0.post0)\n",
      "Requirement already satisfied: six>=1.5 in /opt/anaconda3/lib/python3.13/site-packages (from python-dateutil>=2.7->matplotlib->matplotlib_venn) (1.17.0)\n"
     ]
    }
   ],
   "source": [
    "!pip install matplotlib_venn"
   ]
  },
  {
   "cell_type": "code",
   "execution_count": 5,
   "metadata": {},
   "outputs": [
    {
     "data": {
      "image/png": "[encoded data removed]",
      "text/plain": [
       "<Figure size 640x480 with 1 Axes>"
      ]
     },
     "metadata": {},
     "output_type": "display_data"
    }
   ],
   "source": [
    "# YOUR CODE HERE\n",
    "\n",
    "import matplotlib.pyplot as plt\n",
    "from matplotlib_venn import venn2\n",
    "# Use the venn2 function\n",
    "venn2(subsets=(0.2, 0.5, 0.1), set_labels=('Group A', 'Group B'))\n",
    "plt.show()\n",
    "\n",
    "\n"
   ]
  },
  {
   "cell_type": "code",
   "execution_count": 6,
   "metadata": {},
   "outputs": [],
   "source": [
    "#definition \n",
    "A = 0.3\n",
    "B = 0.6\n",
    "AiB = 0.1"
   ]
  },
  {
   "cell_type": "code",
   "execution_count": 7,
   "metadata": {},
   "outputs": [
    {
     "name": "stdout",
     "output_type": "stream",
     "text": [
      "overline_A is 0.7\n",
      "Result1 True\n"
     ]
    }
   ],
   "source": [
    "#1 $P(\\overline{A}) = 0.7$ // TRUE\n",
    "overline_A = (1 - A) \n",
    "print(\"overline_A is\",overline_A)\n",
    "Result1 = overline_A == 0.7\n",
    "print(\"Result1\",Result1)"
   ]
  },
  {
   "cell_type": "code",
   "execution_count": 8,
   "metadata": {},
   "outputs": [
    {
     "name": "stdout",
     "output_type": "stream",
     "text": [
      "AuB is 0.7999999999999999\n",
      "Result2 False\n"
     ]
    }
   ],
   "source": [
    "#2 $P(A \\cup B) = 0.6$ // FALSE\n",
    "AuB = A + B - AiB\n",
    "print(\"AuB is\", AuB)\n",
    "Result2 = AuB == 0.6\n",
    "print(\"Result2\", Result2)"
   ]
  },
  {
   "cell_type": "code",
   "execution_count": 9,
   "metadata": {},
   "outputs": [
    {
     "name": "stdout",
     "output_type": "stream",
     "text": [
      "Aibp 0.2\n",
      "Result3 True\n"
     ]
    }
   ],
   "source": [
    "#3 $P(A \\cap \\overline{B}) = 0.2$ // TRUE\n",
    "AiBp = round((A - AiB),1)\n",
    "print (\"Aibp\",AiBp)\n",
    "Result3 = AiBp == 0.2\n",
    "print(\"Result3\", Result3)"
   ]
  },
  {
   "cell_type": "code",
   "execution_count": 10,
   "metadata": {},
   "outputs": [
    {
     "name": "stdout",
     "output_type": "stream",
     "text": [
      "AuAp is 1.0\n",
      "Result4 True\n"
     ]
    }
   ],
   "source": [
    "#4 $P(A \\cup \\overline{A}) = 1$  // TRUE\n",
    "AuAp = A + (1 - A)\n",
    "print(\"AuAp is\", AuAp)\n",
    "Result4 = AuAp == 1\n",
    "print(\"Result4\", Result4)"
   ]
  },
  {
   "cell_type": "code",
   "execution_count": 11,
   "metadata": {},
   "outputs": [
    {
     "name": "stdout",
     "output_type": "stream",
     "text": [
      "Ai_BuBp is 0.3\n",
      "Result5 False\n"
     ]
    }
   ],
   "source": [
    "#5 $P(A \\cap (B \\cup \\overline{B})) = 0.4$ //False\n",
    "Ai_BuBp = A * ( B + 1 - B)\n",
    "print(\"Ai_BuBp is\", Ai_BuBp)\n",
    "Result5 = Ai_BuBp == 0.4\n",
    "print(\"Result5\", Result5)"
   ]
  },
  {
   "cell_type": "code",
   "execution_count": 21,
   "metadata": {},
   "outputs": [
    {
     "name": "stdout",
     "output_type": "stream",
     "text": [
      "ApiBp is 0.20000000000000007\n",
      "Result6 False\n"
     ]
    }
   ],
   "source": [
    "#6 $P(\\overline{A} \\cap \\overline{B}) = 0.3$ //False\n",
    "#ApiBp = P(Ap∪Bp)=1−P(A∪B)/ P(A∪B)=P(A)+P(B)−P(A∩B)\n",
    "ApiBp = (1- (A + B - AiB))\n",
    "print(\"ApiBp is\", ApiBp)\n",
    "Result6 = ApiBp == 0.3\n",
    "print(\"Result6\", Result6)"
   ]
  },
  {
   "cell_type": "code",
   "execution_count": null,
   "metadata": {},
   "outputs": [
    {
     "name": "stdout",
     "output_type": "stream",
     "text": [
      "ApipBp is 0.20000000000000007\n",
      "Result7 True\n"
     ]
    }
   ],
   "source": [
    "#7 $P(\\overline{A \\cap B}) = 0.9$ // True\n",
    "#P(Ap∩pBp)= 1−P(A∩B)\n",
    "ApipBp = 1 - AiB\n",
    "print(\"ApipBp is\", ApiBp)\n",
    "Result7 = ApipBp == 0.9\n",
    "print(\"Result7\", Result7)"
   ]
  },
  {
   "cell_type": "markdown",
   "metadata": {},
   "source": [
    "## Challenge 4\n",
    "\n",
    " * If someone flies to China, the probability of getting Covid is 1%  \n",
    " * If someone flies to Italy, the probability of getting Covid is 20%  \n",
    "\n",
    "I roll 1 dice with numbers 1, 2, 3, 4, 5, 6:  \n",
    " * If 1: I fly to Italy\n",
    " * If not 1: I fly to China\n",
    "\n",
    "During my trip, I got Covid. What is the probability that I flew to China?"
   ]
  },
  {
   "cell_type": "code",
   "execution_count": 14,
   "metadata": {},
   "outputs": [
    {
     "name": "stdout",
     "output_type": "stream",
     "text": [
      "probability to covid: 0.041666666666666664\n",
      "Probability to covid in China: 0.2\n"
     ]
    }
   ],
   "source": [
    "covid_china = 0.01\n",
    "covid_italy = 0.20\n",
    "dice = 6\n",
    "p_italy = 1/6\n",
    "p_china = 5/6\n",
    "p_covid = (covid_china) * (p_china) + (covid_italy) * (p_italy)\n",
    "p_china_covid = (covid_china * p_china) / p_covid\n",
    "print(\"probability to covid:\",p_covid)\n",
    "print(\"Probability to covid in China:\", p_china_covid)"
   ]
  },
  {
   "cell_type": "markdown",
   "metadata": {},
   "source": [
    "## BONUS\n",
    "\n",
    "You roll 2 dice. What is the probability that the sum of the numbers is 7? And 8? And 9? Then simulate 10000 times and draw a countplot."
   ]
  },
  {
   "cell_type": "markdown",
   "metadata": {},
   "source": [
    "your explanation here"
   ]
  },
  {
   "cell_type": "code",
   "execution_count": 15,
   "metadata": {},
   "outputs": [],
   "source": [
    "# YOUR CODE HERE"
   ]
  }
 ],
 "metadata": {
  "kernelspec": {
   "display_name": "base",
   "language": "python",
   "name": "python3"
  },
  "language_info": {
   "codemirror_mode": {
    "name": "ipython",
    "version": 3
   },
   "file_extension": ".py",
   "mimetype": "text/x-python",
   "name": "python",
   "nbconvert_exporter": "python",
   "pygments_lexer": "ipython3",
   "version": "3.13.5"
  },
  "toc": {
   "base_numbering": 1,
   "nav_menu": {},
   "number_sections": false,
   "sideBar": true,
   "skip_h1_title": false,
   "title_cell": "Table of Contents",
   "title_sidebar": "Contents",
   "toc_cell": false,
   "toc_position": {
    "height": "calc(100% - 180px)",
    "left": "10px",
    "top": "150px",
    "width": "296.475px"
   },
   "toc_section_display": true,
   "toc_window_display": false
  },
  "varInspector": {
   "cols": {
    "lenName": 16,
    "lenType": 16,
    "lenVar": 40
   },
   "kernels_config": {
    "python": {
     "delete_cmd_postfix": "",
     "delete_cmd_prefix": "del ",
     "library": "var_list.py",
     "varRefreshCmd": "print(var_dic_list())"
    },
    "r": {
     "delete_cmd_postfix": ") ",
     "delete_cmd_prefix": "rm(",
     "library": "var_list.r",
     "varRefreshCmd": "cat(var_dic_list()) "
    }
   },
   "types_to_exclude": [
    "module",
    "function",
    "builtin_function_or_method",
    "instance",
    "_Feature"
   ],
   "window_display": false
  }
 },
 "nbformat": 4,
 "nbformat_minor": 2
}
